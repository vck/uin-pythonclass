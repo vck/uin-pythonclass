{
 "cells": [
  {
   "cell_type": "markdown",
   "metadata": {},
   "source": [
    "<h1 class=\"text-center\"> Pertemuan 3</h1>\n",
    "<h1 class=\"text-center\"> Machine Learning with Python </h1>\n",
    "<h4 class=\"text-center\"> Vicky - Hafizhan</h4>\n",
    "\n",
    "\n",
    "\n",
    "---\n",
    "\n",
    "### 1. Pandas\n",
    "\n",
    "a. load csv\n",
    "\n",
    "b. load xls\n",
    "\n",
    "c. save dataframe to file\n",
    "\n",
    "### 2. Matplotlib\n",
    "\n",
    "a. line\n",
    "\n",
    "b. scatter\n",
    "\n",
    "### 3. Scikit Learn\n",
    "\n",
    "a. intro\n",
    "\n",
    "b. fitting data to model\n",
    "\n",
    "c. training model\n",
    "\n",
    "d. testing model\n",
    "\n"
   ]
  },
  {
   "cell_type": "markdown",
   "metadata": {},
   "source": [
    "---"
   ]
  },
  {
   "cell_type": "markdown",
   "metadata": {},
   "source": [
    "# 1. Pandas\n",
    "\n",
    "tools data analisis pada ekosistem python. \n",
    "pandas memiliki kemampuan untuk membersihkan data, loading data dari csv, xls, sql database.\n",
    "pada kali ini, fokus kita akan ke:\n",
    "\n",
    "- intro pandas dataframe\n",
    "\n",
    "- menyimpan dataframe ke format csv\n",
    "\n",
    "- loading data berformat csv dan xls\n"
   ]
  },
  {
   "cell_type": "code",
   "execution_count": 4,
   "metadata": {},
   "outputs": [],
   "source": [
    "%inline\n",
    "\n",
    "import pandas as pd"
   ]
  },
  {
   "cell_type": "markdown",
   "metadata": {},
   "source": [
    "dataframe pada pandas berguna untuk menyimpan data tabulasi (baris dan kolom pada excel). "
   ]
  },
  {
   "cell_type": "code",
   "execution_count": 49,
   "metadata": {},
   "outputs": [
    {
     "data": {
      "text/html": [
       "<div>\n",
       "<style scoped>\n",
       "    .dataframe tbody tr th:only-of-type {\n",
       "        vertical-align: middle;\n",
       "    }\n",
       "\n",
       "    .dataframe tbody tr th {\n",
       "        vertical-align: top;\n",
       "    }\n",
       "\n",
       "    .dataframe thead th {\n",
       "        text-align: right;\n",
       "    }\n",
       "</style>\n",
       "<table border=\"1\" class=\"dataframe\">\n",
       "  <thead>\n",
       "    <tr style=\"text-align: right;\">\n",
       "      <th></th>\n",
       "      <th>x</th>\n",
       "      <th>y</th>\n",
       "    </tr>\n",
       "  </thead>\n",
       "  <tbody>\n",
       "    <tr>\n",
       "      <th>0</th>\n",
       "      <td>1</td>\n",
       "      <td>6</td>\n",
       "    </tr>\n",
       "    <tr>\n",
       "      <th>1</th>\n",
       "      <td>2</td>\n",
       "      <td>5</td>\n",
       "    </tr>\n",
       "    <tr>\n",
       "      <th>2</th>\n",
       "      <td>3</td>\n",
       "      <td>4</td>\n",
       "    </tr>\n",
       "    <tr>\n",
       "      <th>3</th>\n",
       "      <td>4</td>\n",
       "      <td>3</td>\n",
       "    </tr>\n",
       "    <tr>\n",
       "      <th>4</th>\n",
       "      <td>5</td>\n",
       "      <td>2</td>\n",
       "    </tr>\n",
       "    <tr>\n",
       "      <th>5</th>\n",
       "      <td>6</td>\n",
       "      <td>1</td>\n",
       "    </tr>\n",
       "  </tbody>\n",
       "</table>\n",
       "</div>"
      ],
      "text/plain": [
       "   x  y\n",
       "0  1  6\n",
       "1  2  5\n",
       "2  3  4\n",
       "3  4  3\n",
       "4  5  2\n",
       "5  6  1"
      ]
     },
     "execution_count": 49,
     "metadata": {},
     "output_type": "execute_result"
    }
   ],
   "source": [
    "data = dict(x=[1, 2, 3, 4, 5, 6], y=[6, 5, 4, 3, 2, 1])\n",
    "df = pd.DataFrame(data=data)\n",
    "df"
   ]
  },
  {
   "cell_type": "code",
   "execution_count": 50,
   "metadata": {},
   "outputs": [
    {
     "data": {
      "text/html": [
       "<div>\n",
       "<style scoped>\n",
       "    .dataframe tbody tr th:only-of-type {\n",
       "        vertical-align: middle;\n",
       "    }\n",
       "\n",
       "    .dataframe tbody tr th {\n",
       "        vertical-align: top;\n",
       "    }\n",
       "\n",
       "    .dataframe thead th {\n",
       "        text-align: right;\n",
       "    }\n",
       "</style>\n",
       "<table border=\"1\" class=\"dataframe\">\n",
       "  <thead>\n",
       "    <tr style=\"text-align: right;\">\n",
       "      <th></th>\n",
       "      <th>x</th>\n",
       "      <th>y</th>\n",
       "    </tr>\n",
       "  </thead>\n",
       "  <tbody>\n",
       "    <tr>\n",
       "      <th>count</th>\n",
       "      <td>6.000000</td>\n",
       "      <td>6.000000</td>\n",
       "    </tr>\n",
       "    <tr>\n",
       "      <th>mean</th>\n",
       "      <td>3.500000</td>\n",
       "      <td>3.500000</td>\n",
       "    </tr>\n",
       "    <tr>\n",
       "      <th>std</th>\n",
       "      <td>1.870829</td>\n",
       "      <td>1.870829</td>\n",
       "    </tr>\n",
       "    <tr>\n",
       "      <th>min</th>\n",
       "      <td>1.000000</td>\n",
       "      <td>1.000000</td>\n",
       "    </tr>\n",
       "    <tr>\n",
       "      <th>25%</th>\n",
       "      <td>2.250000</td>\n",
       "      <td>2.250000</td>\n",
       "    </tr>\n",
       "    <tr>\n",
       "      <th>50%</th>\n",
       "      <td>3.500000</td>\n",
       "      <td>3.500000</td>\n",
       "    </tr>\n",
       "    <tr>\n",
       "      <th>75%</th>\n",
       "      <td>4.750000</td>\n",
       "      <td>4.750000</td>\n",
       "    </tr>\n",
       "    <tr>\n",
       "      <th>max</th>\n",
       "      <td>6.000000</td>\n",
       "      <td>6.000000</td>\n",
       "    </tr>\n",
       "  </tbody>\n",
       "</table>\n",
       "</div>"
      ],
      "text/plain": [
       "              x         y\n",
       "count  6.000000  6.000000\n",
       "mean   3.500000  3.500000\n",
       "std    1.870829  1.870829\n",
       "min    1.000000  1.000000\n",
       "25%    2.250000  2.250000\n",
       "50%    3.500000  3.500000\n",
       "75%    4.750000  4.750000\n",
       "max    6.000000  6.000000"
      ]
     },
     "execution_count": 50,
     "metadata": {},
     "output_type": "execute_result"
    }
   ],
   "source": [
    "df.describe()"
   ]
  },
  {
   "cell_type": "markdown",
   "metadata": {},
   "source": [
    "kemudian, dataframe tersebut akan kita simpan dalam format csv"
   ]
  },
  {
   "cell_type": "code",
   "execution_count": 8,
   "metadata": {},
   "outputs": [],
   "source": [
    "df.to_csv(\"dataset.csv\")"
   ]
  },
  {
   "cell_type": "code",
   "execution_count": 9,
   "metadata": {},
   "outputs": [
    {
     "name": "stdout",
     "output_type": "stream",
     "text": [
      "dataset.csv  Untitled.ipynb\r\n"
     ]
    }
   ],
   "source": [
    "!dir"
   ]
  },
  {
   "cell_type": "markdown",
   "metadata": {},
   "source": [
    "kemudian dataset tersebut ingin kita load kembali\n",
    "kita bisa menggunakan:\n",
    "\n",
    "```\n",
    "df2 = pd.load_csv(\"/path/to/datasets.csv\")\n",
    "```"
   ]
  },
  {
   "cell_type": "code",
   "execution_count": 48,
   "metadata": {},
   "outputs": [
    {
     "data": {
      "text/html": [
       "<div>\n",
       "<style scoped>\n",
       "    .dataframe tbody tr th:only-of-type {\n",
       "        vertical-align: middle;\n",
       "    }\n",
       "\n",
       "    .dataframe tbody tr th {\n",
       "        vertical-align: top;\n",
       "    }\n",
       "\n",
       "    .dataframe thead th {\n",
       "        text-align: right;\n",
       "    }\n",
       "</style>\n",
       "<table border=\"1\" class=\"dataframe\">\n",
       "  <thead>\n",
       "    <tr style=\"text-align: right;\">\n",
       "      <th></th>\n",
       "      <th>Unnamed: 0</th>\n",
       "      <th>x</th>\n",
       "      <th>y</th>\n",
       "    </tr>\n",
       "  </thead>\n",
       "  <tbody>\n",
       "    <tr>\n",
       "      <th>0</th>\n",
       "      <td>0</td>\n",
       "      <td>1</td>\n",
       "      <td>6</td>\n",
       "    </tr>\n",
       "    <tr>\n",
       "      <th>1</th>\n",
       "      <td>1</td>\n",
       "      <td>2</td>\n",
       "      <td>5</td>\n",
       "    </tr>\n",
       "    <tr>\n",
       "      <th>2</th>\n",
       "      <td>2</td>\n",
       "      <td>3</td>\n",
       "      <td>4</td>\n",
       "    </tr>\n",
       "    <tr>\n",
       "      <th>3</th>\n",
       "      <td>3</td>\n",
       "      <td>4</td>\n",
       "      <td>3</td>\n",
       "    </tr>\n",
       "    <tr>\n",
       "      <th>4</th>\n",
       "      <td>4</td>\n",
       "      <td>5</td>\n",
       "      <td>2</td>\n",
       "    </tr>\n",
       "    <tr>\n",
       "      <th>5</th>\n",
       "      <td>5</td>\n",
       "      <td>6</td>\n",
       "      <td>1</td>\n",
       "    </tr>\n",
       "  </tbody>\n",
       "</table>\n",
       "</div>"
      ],
      "text/plain": [
       "   Unnamed: 0  x  y\n",
       "0           0  1  6\n",
       "1           1  2  5\n",
       "2           2  3  4\n",
       "3           3  4  3\n",
       "4           4  5  2\n",
       "5           5  6  1"
      ]
     },
     "execution_count": 48,
     "metadata": {},
     "output_type": "execute_result"
    }
   ],
   "source": [
    "df2 = pd.read_csv(\"dataset.csv\")\n",
    "\n",
    "df2"
   ]
  },
  {
   "cell_type": "markdown",
   "metadata": {},
   "source": [
    "untuk mengakses data pada kolom x, kita bisa gunakan dua cara,\n",
    "\n",
    "- akses menggunakan `df[nama_kolom]`\n",
    "\n",
    "- akses menggunakan df.<nama_kolom>`"
   ]
  },
  {
   "cell_type": "markdown",
   "metadata": {},
   "source": []
  },
  {
   "cell_type": "code",
   "execution_count": 21,
   "metadata": {},
   "outputs": [
    {
     "name": "stdout",
     "output_type": "stream",
     "text": [
      "0    1\n",
      "1    2\n",
      "2    3\n",
      "3    4\n",
      "4    5\n",
      "5    6\n",
      "Name: x, dtype: int64\n"
     ]
    }
   ],
   "source": [
    "print(df['x'])"
   ]
  },
  {
   "cell_type": "code",
   "execution_count": 22,
   "metadata": {},
   "outputs": [
    {
     "name": "stdout",
     "output_type": "stream",
     "text": [
      "0    1\n",
      "1    2\n",
      "2    3\n",
      "3    4\n",
      "4    5\n",
      "5    6\n",
      "Name: x, dtype: int64\n"
     ]
    }
   ],
   "source": [
    "print(df.x)"
   ]
  },
  {
   "cell_type": "markdown",
   "metadata": {},
   "source": [
    "---"
   ]
  },
  {
   "cell_type": "markdown",
   "metadata": {},
   "source": [
    "# 2. matplotlib\n",
    "\n",
    "matplotlib merupakan pustaka untuk visualisasi data pada ekosistem python.\n",
    "\n",
    "pada kelas ini, kita akan membahas mengenai:\n",
    "\n",
    "- line plot \n",
    "\n",
    "- scatter plot"
   ]
  },
  {
   "cell_type": "code",
   "execution_count": 51,
   "metadata": {},
   "outputs": [
    {
     "data": {
      "image/png": "[encoded data removed]",
      "text/plain": [
       "<matplotlib.figure.Figure at 0x7f35d89c0668>"
      ]
     },
     "metadata": {},
     "output_type": "display_data"
    }
   ],
   "source": [
    " \n",
    "\n",
    "data = np.linspace(0, 10, 100)\n",
    "\n",
    "plt.plot(data)\n",
    "\n",
    "plt.show()"
   ]
  },
  {
   "cell_type": "code",
   "execution_count": 54,
   "metadata": {},
   "outputs": [
    {
     "name": "stdout",
     "output_type": "stream",
     "text": [
      "(100,)\n",
      "[ 0.          0.1010101   0.2020202   0.3030303   0.4040404   0.50505051\n",
      "  0.60606061  0.70707071  0.80808081  0.90909091  1.01010101  1.11111111\n",
      "  1.21212121  1.31313131  1.41414141  1.51515152  1.61616162  1.71717172\n",
      "  1.81818182  1.91919192  2.02020202  2.12121212  2.22222222  2.32323232\n",
      "  2.42424242  2.52525253  2.62626263  2.72727273  2.82828283  2.92929293\n",
      "  3.03030303  3.13131313  3.23232323  3.33333333  3.43434343  3.53535354\n",
      "  3.63636364  3.73737374  3.83838384  3.93939394  4.04040404  4.14141414\n",
      "  4.24242424  4.34343434  4.44444444  4.54545455  4.64646465  4.74747475\n",
      "  4.84848485  4.94949495  5.05050505  5.15151515  5.25252525  5.35353535\n",
      "  5.45454545  5.55555556  5.65656566  5.75757576  5.85858586  5.95959596\n",
      "  6.06060606  6.16161616  6.26262626  6.36363636  6.46464646  6.56565657\n",
      "  6.66666667  6.76767677  6.86868687  6.96969697  7.07070707  7.17171717\n",
      "  7.27272727  7.37373737  7.47474747  7.57575758  7.67676768  7.77777778\n",
      "  7.87878788  7.97979798  8.08080808  8.18181818  8.28282828  8.38383838\n",
      "  8.48484848  8.58585859  8.68686869  8.78787879  8.88888889  8.98989899\n",
      "  9.09090909  9.19191919  9.29292929  9.39393939  9.49494949  9.5959596\n",
      "  9.6969697   9.7979798   9.8989899  10.        ]\n"
     ]
    }
   ],
   "source": [
    "print(data.shape)\n",
    "print(data)\n"
   ]
  },
  {
   "cell_type": "code",
   "execution_count": 58,
   "metadata": {},
   "outputs": [
    {
     "name": "stdout",
     "output_type": "stream",
     "text": [
      "[[-2.91117565e-01 -1.59827967e+00 -1.54426814e-02  1.56372981e+00\n",
      "  -2.60024704e-01  1.55218461e+00  2.50815567e+00  4.39318291e-01\n",
      "  -7.91647587e-01  3.67210805e-01  1.32710954e+00  1.22537736e+00\n",
      "  -9.09044439e-02 -7.19098756e-01  2.45400025e-01  6.21941634e-01\n",
      "  -1.35881748e+00  1.08873769e-01 -1.77120873e-01 -8.07152110e-01\n",
      "   4.66704420e-04 -2.53453850e-01  1.14325671e-01  3.63691622e-01\n",
      "  -1.37875937e+00 -4.47823153e-02  1.13642765e+00  7.72185253e-02\n",
      "  -2.88553021e-01  8.59271274e-01  2.27741741e-01  2.04591181e-01\n",
      "   1.45081084e+00  8.53212300e-01  9.51302458e-01  4.65636215e-01\n",
      "   3.75437758e-01  7.49596483e-01  1.05098119e-01  1.08181767e+00\n",
      "  -2.91193895e-01  1.58108340e+00  7.54574911e-01  2.45546259e+00\n",
      "  -2.90926602e-01  1.23572766e-01  1.24394740e+00  1.07979736e+00\n",
      "   1.22185653e+00  7.62131675e-01 -1.03014366e-01  8.61508127e-01\n",
      "   8.51848736e-02  1.34437804e+00 -9.85097096e-02 -4.04621732e-01\n",
      "  -8.00332671e-01 -2.10730211e+00  5.30551393e-01  1.03853738e+00\n",
      "  -4.26027732e-01 -1.36892049e-01 -1.03650096e+00  2.66560719e+00\n",
      "   1.93479715e+00  2.99155991e-01 -9.45927946e-01 -5.49498241e-01\n",
      "   1.37980067e+00  1.01031842e+00 -1.27591349e+00  9.09268588e-02\n",
      "  -1.93493454e+00 -6.18107567e-02 -4.59154733e-01 -1.35045438e-01\n",
      "   2.43910672e+00 -8.06040355e-01 -1.03442992e-01  1.15431474e+00\n",
      "   5.68346035e-01 -3.50999384e-01  7.79335015e-01  1.67201533e+00\n",
      "  -8.45396397e-01  5.77197628e-01 -5.51060790e-01 -2.27793391e-03\n",
      "  -1.00466135e+00  5.67910033e-01 -9.74634112e-02  1.57273462e+00\n",
      "   1.66837502e-01  5.62536488e-01  6.64725189e-01  3.74510034e-02\n",
      "   5.78443346e-01  7.06003893e-02  1.71115690e+00 -3.08837438e-01]]\n",
      "[[ 2.6279232   0.27070145 -1.83990682 -0.37587106  0.66633943  0.44470551\n",
      "  -0.85229104 -0.37661736 -0.16911399  0.10102564  1.80009141  0.45316457\n",
      "   0.79823129 -1.21682569  0.0813818   0.54309696 -1.21831108  2.12365087\n",
      "  -1.84954091  1.49119346  1.28407905  1.36889016 -1.01390591  0.60542686\n",
      "   0.87735295 -0.97514453  0.87743001 -0.01436759 -0.67785884 -1.03809257\n",
      "  -0.86157124  0.47450682  0.18502178 -0.62431116 -0.38902645 -0.50361239\n",
      "  -0.78828119  0.65078048 -1.72460532  0.91777399 -0.17865335  0.72610163\n",
      "   1.67924289 -0.56273434 -0.46481722 -0.14521132 -1.02605349  0.77605282\n",
      "   0.44019378 -0.77081999 -0.49264146 -0.22091923 -1.49199006 -0.21270115\n",
      "   1.80760133 -0.48732794 -1.72434048 -0.98278114 -0.11638668  1.64262715\n",
      "  -1.66636684 -1.15371408  0.15275394 -1.21375497  0.69452685  0.4071732\n",
      "  -1.96115764  0.54975379 -0.81594368  0.36695821  0.11150381 -0.90742274\n",
      "  -1.56356323  0.21305544  0.73600853  0.45260249 -0.13228415 -1.135244\n",
      "  -0.87721101 -1.39388578 -1.10580027 -0.25425195  0.39474587 -0.06725665\n",
      "  -0.17911682  0.71277457 -0.25933599 -0.86861192  0.7532259   0.48853667\n",
      "  -1.17549337  0.08238145  0.53165168 -0.83175334  0.10229341  0.27394442\n",
      "  -1.88213376  1.23677758  0.95076287  0.3361646 ]]\n"
     ]
    },
    {
     "data": {
      "text/plain": [
       "<matplotlib.collections.PathCollection at 0x7f35d8824cf8>"
      ]
     },
     "execution_count": 58,
     "metadata": {},
     "output_type": "execute_result"
    },
    {
     "data": {
      "image/png": "[encoded data removed]",
      "text/plain": [
       "<matplotlib.figure.Figure at 0x7f35f00c1358>"
      ]
     },
     "metadata": {},
     "output_type": "display_data"
    }
   ],
   "source": [
    "import numpy as np\n",
    "\n",
    "x = np.random.randn(1, 100)\n",
    "y = np.random.randn(1, 100)\n",
    "\n",
    "print(x)\n",
    "print(y)\n",
    "plt.scatter(x, y)\n"
   ]
  },
  {
   "cell_type": "markdown",
   "metadata": {},
   "source": [
    "untuk memberi label pada axis-x dan axis-y:\n",
    "    "
   ]
  },
  {
   "cell_type": "code",
   "execution_count": 29,
   "metadata": {},
   "outputs": [
    {
     "data": {
      "text/plain": [
       "Text(0,0.5,'label y')"
      ]
     },
     "execution_count": 29,
     "metadata": {},
     "output_type": "execute_result"
    },
    {
     "data": {
      "image/png": "[encoded data removed]",
      "text/plain": [
       "<matplotlib.figure.Figure at 0x7f35f2652710>"
      ]
     },
     "metadata": {},
     "output_type": "display_data"
    }
   ],
   "source": [
    "x = np.random.randn(1, 100)\n",
    "y = np.random.randn(1, 100)\n",
    "\n",
    "plt.scatter(x, y)\n",
    "plt.xlabel('label x')\n",
    "plt.ylabel('label y')"
   ]
  },
  {
   "cell_type": "markdown",
   "metadata": {},
   "source": [
    "--- "
   ]
  },
  {
   "cell_type": "markdown",
   "metadata": {},
   "source": [
    "# 3. scikit-learn\n",
    "\n",
    "scikit learn adalah salah satu pustaka machine learning pada ekosistem python yang paling populer\n",
    "scikit learn berisi modul modul untuk data preprocessing (baik teks maupun skalar), model machine learning seperti regresi linear, regresi logistik, artificial neural network, svm, k-means. (untuk lebih lengkap, buka [http://www.scikit-learn.org](http://www.scikit-learn.org) \n",
    "\n",
    "workflow dalam menggunakan scikit-learning:\n",
    "\n",
    "- load dataset menggunakan pandas\n",
    "\n",
    "- pilih fitur\n",
    "\n",
    "- pilih model\n",
    "\n",
    "untuk pelatihan model:\n",
    "\n",
    "```\n",
    "model.fit(input, target)\n",
    "```\n",
    "\n",
    "buat prediksi:\n",
    "\n",
    "```\n",
    "model.predict(new_input)\n",
    "```\n",
    "\n",
    "pengetesan model:\n",
    "\n",
    "\n",
    "```\n",
    "model.score(new_input, new_output)\n",
    "\n",
    "```"
   ]
  },
  {
   "cell_type": "code",
   "execution_count": 73,
   "metadata": {},
   "outputs": [
    {
     "name": "stdout",
     "output_type": "stream",
     "text": [
      "[  0.          11.11111111  22.22222222  33.33333333  44.44444444\n",
      "  55.55555556  66.66666667  77.77777778  88.88888889 100.        ]\n",
      "[  2.         100.88888889 199.77777778 298.66666667 397.55555556\n",
      " 496.44444444 595.33333333 694.22222222 793.11111111 892.        ]\n",
      "[[  0.        ]\n",
      " [ 11.11111111]\n",
      " [ 22.22222222]\n",
      " [ 33.33333333]\n",
      " [ 44.44444444]\n",
      " [ 55.55555556]\n",
      " [ 66.66666667]\n",
      " [ 77.77777778]\n",
      " [ 88.88888889]\n",
      " [100.        ]]\n",
      "[[  2.        ]\n",
      " [100.88888889]\n",
      " [199.77777778]\n",
      " [298.66666667]\n",
      " [397.55555556]\n",
      " [496.44444444]\n",
      " [595.33333333]\n",
      " [694.22222222]\n",
      " [793.11111111]\n",
      " [892.        ]]\n"
     ]
    },
    {
     "data": {
      "text/plain": [
       "[<matplotlib.lines.Line2D at 0x7f35daef3ac8>]"
      ]
     },
     "execution_count": 73,
     "metadata": {},
     "output_type": "execute_result"
    },
    {
     "data": {
      "image/png": "[encoded data removed]",
      "text/plain": [
       "<matplotlib.figure.Figure at 0x7f35d80a0400>"
      ]
     },
     "metadata": {},
     "output_type": "display_data"
    }
   ],
   "source": [
    "import numpy as np\n",
    "from sklearn.linear_model import LinearRegression\n",
    "\n",
    "x = np.linspace(0, 100, 10)\n",
    "y = 8.9 * x + 2\n",
    "\n",
    "print(x)\n",
    "print(y)\n",
    "\n",
    "x = x.reshape(x.shape[0], 1)\n",
    "y = y.reshape(y.shape[0], 1)\n",
    "\n",
    "print(x)\n",
    "print(y)\n",
    "\n",
    "model = LinearRegression()\n",
    "model.fit(x, y)\n",
    "\n",
    "y_out = model.predict(x)\n",
    "\n",
    "plt.plot(x, y, '*')\n",
    "plt.plot(x, y_out, '-')\n",
    "\n"
   ]
  },
  {
   "cell_type": "code",
   "execution_count": 80,
   "metadata": {},
   "outputs": [
    {
     "data": {
      "text/plain": [
       "array([[80903.]])"
      ]
     },
     "execution_count": 80,
     "metadata": {},
     "output_type": "execute_result"
    }
   ],
   "source": [
    "model.predict([[9090]])"
   ]
  },
  {
   "cell_type": "markdown",
   "metadata": {},
   "source": [
    "contoh, klasifikasi iris menggunakan ann."
   ]
  },
  {
   "cell_type": "code",
   "execution_count": 47,
   "metadata": {},
   "outputs": [
    {
     "name": "stderr",
     "output_type": "stream",
     "text": [
      "/home/vicky/anaconda3/lib/python3.6/site-packages/sklearn/neural_network/multilayer_perceptron.py:564: ConvergenceWarning: Stochastic Optimizer: Maximum iterations (200) reached and the optimization hasn't converged yet.\n",
      "  % self.max_iter, ConvergenceWarning)\n"
     ]
    },
    {
     "data": {
      "text/plain": [
       "0.9733333333333334"
      ]
     },
     "execution_count": 47,
     "metadata": {},
     "output_type": "execute_result"
    }
   ],
   "source": [
    "from sklearn.datasets import load_iris\n",
    "from sklearn.neural_network import MLPClassifier as mlp\n",
    "\n",
    "model = mlp()\n",
    "\n",
    "data = load_iris()\n",
    "\n",
    "data, target = data.data, data.target\n",
    "\n",
    "# build model with defauilt params\n",
    "\n",
    "model.fit(data, target)\n",
    "\n",
    "model.score(data, target)\n"
   ]
  },
  {
   "cell_type": "code",
   "execution_count": null,
   "metadata": {},
   "outputs": [],
   "source": []
  },
  {
   "cell_type": "code",
   "execution_count": null,
   "metadata": {},
   "outputs": [],
   "source": []
  }
 ],
 "metadata": {
  "kernelspec": {
   "display_name": "Python 3",
   "language": "python",
   "name": "python3"
  },
  "language_info": {
   "codemirror_mode": {
    "name": "ipython",
    "version": 3
   },
   "file_extension": ".py",
   "mimetype": "text/x-python",
   "name": "python",
   "nbconvert_exporter": "python",
   "pygments_lexer": "ipython3",
   "version": "3.6.4"
  }
 },
 "nbformat": 4,
 "nbformat_minor": 2
}
